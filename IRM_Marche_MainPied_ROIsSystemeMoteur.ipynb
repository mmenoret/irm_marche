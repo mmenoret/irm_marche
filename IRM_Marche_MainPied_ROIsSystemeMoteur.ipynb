{
 "cells": [
  {
   "cell_type": "markdown",
   "metadata": {},
   "source": [
    "# Classification Main-Pied - REGION INTERET\n",
    "\n",
    "## Apprentissage sur stimulation; Test sur imagination\n",
    "\n",
    "Classification sur voxels \n",
    "Masque système moteur obtenus à partir de cartes ICA de NeuroVault (meta analyses) en selectionant mots clés: motor, premotor, sma, foot, hand \n",
    "exemple: http://nilearn.github.io/auto_examples/05_advanced/plot_ica_neurovault.html#sphx-glr-auto-examples-05-advanced-plot-ica-neurovault-py\n",
    "\n",
    "Tous les sujets - Classifieur: GraphNet"
   ]
  }
 ],
 "metadata": {
  "kernelspec": {
   "display_name": "Python 3",
   "language": "python",
   "name": "python3"
  },
  "language_info": {
   "codemirror_mode": {
    "name": "ipython",
    "version": 3
   },
   "file_extension": ".py",
   "mimetype": "text/x-python",
   "name": "python",
   "nbconvert_exporter": "python",
   "pygments_lexer": "ipython3",
   "version": "3.5.3"
  }
 },
 "nbformat": 4,
 "nbformat_minor": 2
}

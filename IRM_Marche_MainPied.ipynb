{
 "cells": [
  {
   "cell_type": "markdown",
   "metadata": {},
   "source": [
    "# Classification Main-Pied\n",
    "\n",
    "## Apprentissage sur stimulation; Test sur imagination\n",
    "\n",
    "Cerveau Entier - Parcellation BASC (444 régions)\n",
    "\n",
    "Tous les sujets - SVM Linéaire\n"
   ]
  },
  {
   "cell_type": "code",
   "execution_count": 1,
   "metadata": {},
   "outputs": [
    {
     "name": "stderr",
     "output_type": "stream",
     "text": [
      "C:\\Users\\mmenoret\\Miniconda2\\envs\\fmri_3\\lib\\site-packages\\sklearn\\cross_validation.py:44: DeprecationWarning: This module was deprecated in version 0.18 in favor of the model_selection module into which all the refactored classes and functions are moved. Also note that the interface of the new CV iterators are different from that of this module. This module will be removed in 0.20.\n",
      "  \"This module will be removed in 0.20.\", DeprecationWarning)\n"
     ]
    }
   ],
   "source": [
    "import numpy as np\n",
    "\n",
    "from sklearn.pipeline import Pipeline   \n",
    "from sklearn.svm import SVC\n",
    "from sklearn import preprocessing \n",
    "from sklearn.feature_selection import SelectKBest, f_classif\n",
    "from sklearn.metrics import accuracy_score\n",
    "from nilearn.datasets import load_mni152_brain_mask\n",
    "from nilearn import datasets\n",
    "from nilearn.input_data import NiftiLabelsMasker\n",
    "from sklearn.cross_validation import LeaveOneLabelOut, cross_val_score, permutation_test_score\n",
    "\n",
    "%matplotlib inline\n",
    "import sys\n",
    "sys.path[0]='Z:/GitHub/gsp-learn/'\n",
    "from gsplearn.GSPPlot import plot_selectedregions"
   ]
  },
  {
   "cell_type": "code",
   "execution_count": 6,
   "metadata": {
    "collapsed": true
   },
   "outputs": [],
   "source": [
    "# Import data\n",
    "names='ap','as','bh','bi','cmp','cas','cs','cb','gm','gn','gbn','mv','ms','pm','pc','ph','pa','pv','pom','rdc','ti','vs'\n",
    "smt='ss'\n",
    "fold_g = 'F:/IRM_Marche/'\n",
    "label_i=np.loadtxt(fold_g+'label_main.txt','S12')\n",
    "blocks_i=np.loadtxt(fold_g+'block_main.txt','int')\n",
    "\n",
    "roi=np.zeros([0,444])\n",
    "rest=np.zeros([0,444])\n",
    "label=np.zeros([0,3])\n",
    "blocks=np.array([])\n",
    "for n in names:\n",
    "    sim_filename=fold_g+'mni4060/asymroi_'+smt+'_'+n+'.npz'\n",
    "    rest_filename=  fold_g+'mni4060/asymroirest_'+smt+'_'+n+'.npz'  \n",
    "    tmproi=np.load(sim_filename)['roi']\n",
    "    tmprest=np.load(rest_filename)['roi']\n",
    "    roi=np.concatenate((roi,tmproi))\n",
    "    rest=np.concatenate((rest,tmprest))\n",
    "    label=np.append(label,label_i,axis=0)\n",
    "    blocks=np.append(blocks,blocks_i) \n",
    "    \n",
    "# Remove first volumes per block    \n",
    "index=[]\n",
    "for x in range(label.shape[0]):\n",
    "    if label[x,0]!=label[x-1,0]:\n",
    "        index.append(x)\n",
    "    elif label[x,0]!=label[x-2,0]:\n",
    "        index.append(x)\n",
    "        \n",
    "label=np.delete(label,index,0)\n",
    "blocks=np.delete(blocks,index,0)\n",
    "roi=np.delete(roi,index,0)\n",
    "\n",
    "condition_cat = np.logical_or(label[:,1] == b'foot', label[:,1] == b'hand')\n",
    "condition_out=np.logical_not(label[:,2]== b'des')\n",
    "condition_mask= condition_cat==condition_out\n",
    "block=blocks[condition_mask]\n",
    "y=label[condition_mask]\n",
    "cond=roi[condition_mask]\n",
    "   \n",
    "train_mask= y[:,0]==b'stim'\n",
    "test_mask= y[:,0]==b'imag'\n",
    "y_train=y[train_mask,1]\n",
    "y_test=y[test_mask,1]\n",
    "roi_train=cond[train_mask]#   \n",
    "roi_test=cond[test_mask]\n",
    "block=block[train_mask]\n",
    "\n",
    "## Data indiv\n",
    "\n",
    "index_i=[]\n",
    "nb_s=len(names)\n",
    "for x in range(label_i.shape[0]):\n",
    "    if label_i[x,0]!=label_i[x-1,0]:\n",
    "        index_i.append(x)\n",
    "    elif label_i[x,0]!=label_i[x-2,0]:\n",
    "        index_i.append(x)\n",
    "        \n",
    "label_i=np.delete(label_i,index_i,0)\n",
    "blocks_i=np.delete(blocks_i,index_i,0)\n",
    "\n",
    "condition_cat_i = np.logical_or(label_i[:,1] == b'foot', label_i[:,1] == b'hand')\n",
    "condition_out_i=np.logical_not(label_i[:,2]== b'des')\n",
    "condition_mask_i= condition_cat_i==condition_out_i\n",
    "block_i=blocks_i[condition_mask_i]\n",
    "y_i=label_i[condition_mask_i]\n",
    "\n",
    "   \n",
    "train_mask_i= y_i[:,0]==b'stim'\n",
    "test_mask_i= y_i[:,0]==b'imag'\n",
    "y_train_i=y_i[train_mask_i,1]\n",
    "y_test_i=y_i[test_mask_i,1]\n",
    "  \n",
    "block_i=block_i[test_mask_i]"
   ]
  },
  {
   "cell_type": "code",
   "execution_count": 3,
   "metadata": {},
   "outputs": [
    {
     "name": "stdout",
     "output_type": "stream",
     "text": [
      "Accuracy: 59.8086124402 %\n"
     ]
    }
   ],
   "source": [
    "# Classification\n",
    "scaler = preprocessing.StandardScaler()\n",
    "svm= SVC(C=1., kernel=\"linear\")  \n",
    "k=50 #best 52\n",
    "feature_selection = SelectKBest(f_classif, k=k)\n",
    "    \n",
    "pipeline_anova = Pipeline([('anova', feature_selection), ('scale', scaler),('classif_name', svm)])\n",
    "pipeline_anova.fit(roi_train, y_train)\n",
    "prediction = pipeline_anova.predict(roi_test)  \n",
    "result=accuracy_score(prediction,y_test)\n",
    "print('Accuracy:',result*100,'%')"
   ]
  },
  {
   "cell_type": "code",
   "execution_count": 15,
   "metadata": {},
   "outputs": [
    {
     "name": "stderr",
     "output_type": "stream",
     "text": [
      "C:\\Users\\mmenoret\\Miniconda2\\envs\\fmri_3\\lib\\site-packages\\scipy\\ndimage\\interpolation.py:462: UserWarning: The behaviour of affine_transform with a one-dimensional array supplied for the matrix parameter has changed in scipy 0.18.0.\n",
      "  \"The behaviour of affine_transform with a one-dimensional \"\n"
     ]
    },
    {
     "data": {
      "text/plain": [
       "NiftiLabelsMasker(background_label=0, detrend=True, high_pass=0.01,\n",
       "         labels_img='C:\\\\Users\\\\mmenoret/nilearn_data\\\\basc_multiscale_2015\\\\template_cambridge_basc_multiscale_nii_asym\\\\template_cambridge_basc_multiscale_asym_scale444.nii.gz',\n",
       "         low_pass=None,\n",
       "         mask_img=<nibabel.nifti1.Nifti1Image object at 0x000000000A7CD710>,\n",
       "         memory=Memory(cachedir=None), memory_level=1,\n",
       "         resampling_target='labels', sessions=None, smoothing_fwhm=None,\n",
       "         standardize=False, t_r=2.28, verbose=0)"
      ]
     },
     "execution_count": 15,
     "metadata": {},
     "output_type": "execute_result"
    }
   ],
   "source": [
    "# Prepare ploting\n",
    "basc = datasets.fetch_atlas_basc_multiscale_2015(version='asym')['scale444']\n",
    "brainmask = load_mni152_brain_mask()\n",
    "masker = NiftiLabelsMasker(labels_img = basc, mask_img = brainmask, \n",
    "                           memory_level=1, verbose=0,\n",
    "                           detrend=True, standardize=False,  \n",
    "                           high_pass=0.01,t_r=2.28,\n",
    "                           resampling_target='labels'\n",
    "                           )\n",
    "masker.fit()"
   ]
  },
  {
   "cell_type": "code",
   "execution_count": 16,
   "metadata": {},
   "outputs": [
    {
     "data": {
      "image/png": "[encoded data removed]",
      "text/plain": [
       "<matplotlib.figure.Figure at 0x47e9860>"
      ]
     },
     "metadata": {},
     "output_type": "display_data"
    }
   ],
   "source": [
    "# Plot resulting weights of the SVM & selected regions\n",
    "weights=pipeline_anova.named_steps['classif_name'].coef_\n",
    "index=plot_selectedregions(pipeline_anova,masker,weights=weights,anova_name='anova',cut_coords=[2,-29,70])\n"
   ]
  },
  {
   "cell_type": "markdown",
   "metadata": {},
   "source": [
    "### Test du niveau de chance (en gardant la structure de bloc)"
   ]
  },
  {
   "cell_type": "code",
   "execution_count": 10,
   "metadata": {},
   "outputs": [
    {
     "name": "stdout",
     "output_type": "stream",
     "text": [
      "0.001\n"
     ]
    }
   ],
   "source": [
    "### Permutation block\n",
    "nb_p=1000\n",
    "null_result=np.zeros(nb_p)\n",
    "nb_s=len(names)\n",
    "ncond=['hand','foot']\n",
    "for i in range(nb_p):\n",
    "    y_train_random=np.zeros((0,1),dtype='S12')\n",
    "    # shuffle block number\n",
    "    for suj in range(nb_s):\n",
    "        xncond=np.random.permutation(ncond)\n",
    "        suj_train_random=np.append(np.full(57,xncond[0],dtype='S12'),np.full(57,xncond[1],dtype='S12'))\n",
    "        y_train_random=np.append(y_train_random,suj_train_random)\n",
    "\n",
    "        \n",
    "    pipeline_anova.fit(roi_train, y_train_random)\n",
    "    prediction = pipeline_anova.predict(roi_test) \n",
    "    null_result[i]=accuracy_score(prediction,y_test)\n",
    "\n",
    "sign=(null_result>=result).sum()/nb_p\n",
    "print(sign)"
   ]
  },
  {
   "cell_type": "markdown",
   "metadata": {},
   "source": [
    "Résultats: La classification imagination MAIN/PIED à partir de l'apprentissage de Stimulation MAIN/PIED donne des performances proches de 60 %, et vu le niveau de difficulté (cerveau entier, tache différente entre imagination et stimulation), c'est pas si mal (et largement significatif: p=0.001!)\n",
    "\n",
    "Concernant les coefficients du SVM obtenus (c'est à dire les régions qui permettent la classification), on retrouve parfaitement les régions motrices de la main et du pied)."
   ]
  },
  {
   "cell_type": "markdown",
   "metadata": {},
   "source": [
    "### Classification sur Stimulation seulement (de façon cross-validée)"
   ]
  },
  {
   "cell_type": "code",
   "execution_count": 15,
   "metadata": {},
   "outputs": [
    {
     "name": "stdout",
     "output_type": "stream",
     "text": [
      "STIM only CV 0.828403078403\n"
     ]
    }
   ],
   "source": [
    "cv = LeaveOneLabelOut(block)\n",
    "score_cv = cross_val_score(pipeline_anova, roi_train, y_train,cv=cv)\n",
    "print('STIM only CV',score_cv.mean())"
   ]
  },
  {
   "cell_type": "markdown",
   "metadata": {},
   "source": [
    "## Apprentissage sur imagination; Test sur stimulation\n",
    "\n",
    "Attention, vu que les taches diffèrent également au niveau visuel, la classification sur cerveau entier risque d'être faite sur le cortex visuel"
   ]
  },
  {
   "cell_type": "code",
   "execution_count": 6,
   "metadata": {},
   "outputs": [
    {
     "name": "stdout",
     "output_type": "stream",
     "text": [
      "Accuracy: 66.4673046252 %\n"
     ]
    }
   ],
   "source": [
    "pipeline_anova.fit(roi_test, y_test)\n",
    "prediction = pipeline_anova.predict(roi_train)  \n",
    "print('Accuracy:',accuracy_score(prediction,y_train)*100,'%')"
   ]
  },
  {
   "cell_type": "code",
   "execution_count": 10,
   "metadata": {},
   "outputs": [
    {
     "data": {
      "image/png": "[encoded data removed]",
      "text/plain": [
       "<matplotlib.figure.Figure at 0x10621a90>"
      ]
     },
     "metadata": {},
     "output_type": "display_data"
    },
    {
     "data": {
      "image/png": "[encoded data removed]",
      "text/plain": [
       "<matplotlib.figure.Figure at 0xa7382e8>"
      ]
     },
     "metadata": {},
     "output_type": "display_data"
    }
   ],
   "source": [
    "# Plot resulting weights of the SVM & selected regions\n",
    "weights=pipeline_anova.named_steps['classif_name'].coef_\n",
    "plot_selectedregions(pipeline_anova,masker,weights=weights,anova_name='anova')\n",
    "plot_selectedregions(pipeline_anova,masker,weights=weights,anova_name='anova',cut_coords=[2,-29,70])"
   ]
  },
  {
   "cell_type": "markdown",
   "metadata": {},
   "source": [
    "Résultats: La classification des données Stimulation MAIN/PIED donne de meilleures performances: 66 %, \n",
    "mais quand on regarde les coefficients du SVM obtenus (c'est à dire les régions qui permettent la classification),\n",
    "on retrouve seulement les régions visuelles, donc probablement dues a des différences autres que motrices.\n",
    "Etant donné la différence dans le conditions de l'input visuel, il est impossible d'interpreter ces poids."
   ]
  },
  {
   "cell_type": "markdown",
   "metadata": {
    "collapsed": true
   },
   "source": [
    "## Analyse par sujets: \n",
    "Ne donne pas de bons résultats (classification significativement meilleure que la chance seulement chez 3 sujets."
   ]
  },
  {
   "cell_type": "markdown",
   "metadata": {},
   "source": [
    "## Apprentissage Stimulation sur tous les sujets - Test sur imagination par sujet"
   ]
  },
  {
   "cell_type": "code",
   "execution_count": 18,
   "metadata": {},
   "outputs": [
    {
     "name": "stdout",
     "output_type": "stream",
     "text": [
      "ap Accuracy: 58.7719298246 %\n",
      "as Accuracy: 55.2631578947 %\n",
      "bh Accuracy: 64.0350877193 %\n",
      "bi Accuracy: 57.0175438596 %\n",
      "cmp Accuracy: 73.6842105263 %\n",
      "cas Accuracy: 52.6315789474 %\n",
      "cs Accuracy: 77.1929824561 %\n",
      "cb Accuracy: 63.1578947368 %\n",
      "gm Accuracy: 64.9122807018 %\n",
      "gn Accuracy: 42.1052631579 %\n",
      "gbn Accuracy: 57.8947368421 %\n",
      "mv Accuracy: 63.1578947368 %\n",
      "ms Accuracy: 69.298245614 %\n",
      "pm Accuracy: 51.7543859649 %\n",
      "pc Accuracy: 60.5263157895 %\n",
      "ph Accuracy: 55.2631578947 %\n",
      "pa Accuracy: 71.9298245614 %\n",
      "pv Accuracy: 58.7719298246 %\n",
      "pom Accuracy: 60.5263157895 %\n",
      "rdc Accuracy: 59.649122807 %\n",
      "ti Accuracy: 63.1578947368 %\n",
      "vs Accuracy: 57.8947368421 %\n"
     ]
    }
   ],
   "source": [
    "pipeline_anova.fit(roi_train, y_train)\n",
    "\n",
    "result_i=np.zeros(nb_s)\n",
    "for ni,n in enumerate(names):\n",
    "    sim_filename=fold_g+'mni4060/roi_'+smt+'_'+n+'.npz'\n",
    "    roi_i=np.load(sim_filename)['roi']\n",
    "    roi_i=np.delete(roi_i,index_i,0)\n",
    "    cond_i=roi_i[condition_mask_i]\n",
    "    roi_test_i=cond_i[test_mask_i]\n",
    "    #roi_train_i=cond_i[train_mask_i]# \n",
    "    prediction = pipeline_anova.predict(roi_test_i) \n",
    "    result_i[ni]=accuracy_score(prediction,y_test_i)\n",
    "    print(n,'Accuracy:',result_i[ni]*100,'%')\n",
    "    "
   ]
  },
  {
   "cell_type": "markdown",
   "metadata": {},
   "source": [
    "### Test significativité"
   ]
  },
  {
   "cell_type": "code",
   "execution_count": 17,
   "metadata": {},
   "outputs": [
    {
     "ename": "NameError",
     "evalue": "name 'result_i' is not defined",
     "output_type": "error",
     "traceback": [
      "\u001b[1;31m---------------------------------------------------------------------------\u001b[0m",
      "\u001b[1;31mNameError\u001b[0m                                 Traceback (most recent call last)",
      "\u001b[1;32m<ipython-input-17-b5b218967401>\u001b[0m in \u001b[0;36m<module>\u001b[1;34m()\u001b[0m\n\u001b[0;32m     23\u001b[0m         \u001b[0mnull_result\u001b[0m\u001b[1;33m[\u001b[0m\u001b[0mni\u001b[0m\u001b[1;33m,\u001b[0m\u001b[0mi\u001b[0m\u001b[1;33m]\u001b[0m\u001b[1;33m=\u001b[0m\u001b[0maccuracy_score\u001b[0m\u001b[1;33m(\u001b[0m\u001b[0mprediction\u001b[0m\u001b[1;33m,\u001b[0m\u001b[0my_test_i\u001b[0m\u001b[1;33m)\u001b[0m\u001b[1;33m\u001b[0m\u001b[0m\n\u001b[0;32m     24\u001b[0m \u001b[1;32mfor\u001b[0m \u001b[0mni\u001b[0m\u001b[1;33m,\u001b[0m\u001b[0mn\u001b[0m \u001b[1;32min\u001b[0m \u001b[0menumerate\u001b[0m\u001b[1;33m(\u001b[0m\u001b[0mnames\u001b[0m\u001b[1;33m)\u001b[0m\u001b[1;33m:\u001b[0m\u001b[1;33m\u001b[0m\u001b[0m\n\u001b[1;32m---> 25\u001b[1;33m     \u001b[0msign\u001b[0m\u001b[1;33m=\u001b[0m\u001b[1;33m(\u001b[0m\u001b[0mnull_result\u001b[0m\u001b[1;33m[\u001b[0m\u001b[0mni\u001b[0m\u001b[1;33m]\u001b[0m\u001b[1;33m>=\u001b[0m\u001b[0mresult_i\u001b[0m\u001b[1;33m[\u001b[0m\u001b[0mni\u001b[0m\u001b[1;33m]\u001b[0m\u001b[1;33m)\u001b[0m\u001b[1;33m.\u001b[0m\u001b[0msum\u001b[0m\u001b[1;33m(\u001b[0m\u001b[1;33m)\u001b[0m\u001b[1;33m/\u001b[0m\u001b[0mnb_p\u001b[0m\u001b[1;33m\u001b[0m\u001b[0m\n\u001b[0m\u001b[0;32m     26\u001b[0m     \u001b[0mprint\u001b[0m\u001b[1;33m(\u001b[0m\u001b[0mn\u001b[0m\u001b[1;33m,\u001b[0m\u001b[0mresult_i\u001b[0m\u001b[1;33m[\u001b[0m\u001b[0mni\u001b[0m\u001b[1;33m]\u001b[0m\u001b[1;33m,\u001b[0m\u001b[0msign\u001b[0m\u001b[1;33m)\u001b[0m\u001b[1;33m\u001b[0m\u001b[0m\n",
      "\u001b[1;31mNameError\u001b[0m: name 'result_i' is not defined"
     ]
    }
   ],
   "source": [
    "### Permutation block\n",
    "nb_p=1000\n",
    "\n",
    "null_result=np.zeros((nb_s,nb_p))\n",
    "\n",
    "ncond=['hand','foot']\n",
    "for i in range(nb_p):\n",
    "    y_train_random=np.zeros((0,1),dtype='S12')\n",
    "    # shuffle block number\n",
    "    for suj in range(nb_s):\n",
    "        xncond=np.random.permutation(ncond)\n",
    "        suj_train_random=np.append(np.full(57,xncond[0],dtype='S12'),np.full(57,xncond[1],dtype='S12'))\n",
    "        y_train_random=np.append(y_train_random,suj_train_random)\n",
    "    pipeline_anova.fit(roi_train, y_train_random)\n",
    "    for ni,n in enumerate(names):\n",
    "        sim_filename=fold_g+'mni4060/roi_'+smt+'_'+n+'.npz'\n",
    "        roi_i=np.load(sim_filename)['roi']\n",
    "        roi_i=np.delete(roi_i,index_i,0)\n",
    "        cond_i=roi_i[condition_mask_i]\n",
    "        roi_test_i=cond_i[test_mask_i]\n",
    "    #roi_train_i=cond_i[train_mask_i]# \n",
    "        prediction = pipeline_anova.predict(roi_test_i) \n",
    "        null_result[ni,i]=accuracy_score(prediction,y_test_i)\n"
   ]
  },
  {
   "cell_type": "code",
   "execution_count": 19,
   "metadata": {},
   "outputs": [
    {
     "name": "stdout",
     "output_type": "stream",
     "text": [
      "ap 0.587719298246 0.084\n",
      "as 0.552631578947 0.276\n",
      "bh 0.640350877193 0.024\n",
      "bi 0.570175438596 0.158\n",
      "cmp 0.736842105263 0.002\n",
      "cas 0.526315789474 0.376\n",
      "cs 0.771929824561 0.0\n",
      "cb 0.631578947368 0.041\n",
      "gm 0.649122807018 0.048\n",
      "gn 0.421052631579 0.856\n",
      "gbn 0.578947368421 0.165\n",
      "mv 0.631578947368 0.169\n",
      "ms 0.69298245614 0.004\n",
      "pm 0.517543859649 0.396\n",
      "pc 0.605263157895 0.079\n",
      "ph 0.552631578947 0.249\n",
      "pa 0.719298245614 0.015\n",
      "pv 0.587719298246 0.088\n",
      "pom 0.605263157895 0.145\n",
      "rdc 0.59649122807 0.17\n",
      "ti 0.631578947368 0.024\n",
      "vs 0.578947368421 0.173\n"
     ]
    }
   ],
   "source": [
    "for ni,n in enumerate(names):\n",
    "    sign=(null_result[ni]>=result_i[ni]).sum()/nb_p\n",
    "    print(n,result_i[ni],sign)"
   ]
  },
  {
   "cell_type": "markdown",
   "metadata": {},
   "source": [
    "Apprentissage Stim Hand/Foot sur tous les sujets, et test individuel Imag Hand/Foot :  8 Sujets avec classification p<0.05 . 11 supérieurs à 60%. BOF mais pas mal"
   ]
  },
  {
   "cell_type": "markdown",
   "metadata": {
    "collapsed": true
   },
   "source": [
    "### Classification seulement sur regions BASC motrices"
   ]
  },
  {
   "cell_type": "code",
   "execution_count": 36,
   "metadata": {},
   "outputs": [
    {
     "name": "stdout",
     "output_type": "stream",
     "text": [
      "[ 10  11  15  18  20  23  27  30  32  35  37  47  52  53  57  61  67  68\n",
      "  79  80  82  84  86  89  90  91  97  98  99 101 104 108 109 110 111 121\n",
      " 122 123 124 126 127 133 134 135 136 137 142 147 150 156 157 165 167 181\n",
      " 186 189 191 192 193 195 201 206 208 209 210 214 219 230 237 239 247 257\n",
      " 259 268 271 272 277 279 287 292 293 294 303 305 306 310 316 318 331 336\n",
      " 343 344 351 355 365 369 372 387 390 392 395 397 401 409 418 421 424 425\n",
      " 427 428 432 435]\n"
     ]
    }
   ],
   "source": [
    "motor_region_index=np.fromfile('F:/IRM_Marche/motorregion112_basc444asym.np',dtype=int)\n",
    "print(motor_region_index)"
   ]
  },
  {
   "cell_type": "code",
   "execution_count": 37,
   "metadata": {},
   "outputs": [
    {
     "name": "stdout",
     "output_type": "stream",
     "text": [
      "ap Accuracy: 61.4035087719 %\n",
      "as Accuracy: 55.2631578947 %\n",
      "bh Accuracy: 54.3859649123 %\n",
      "bi Accuracy: 53.5087719298 %\n",
      "cmp Accuracy: 71.0526315789 %\n",
      "cas Accuracy: 57.8947368421 %\n",
      "cs Accuracy: 70.1754385965 %\n",
      "cb Accuracy: 42.9824561404 %\n",
      "gm Accuracy: 67.5438596491 %\n",
      "gn Accuracy: 44.7368421053 %\n",
      "gbn Accuracy: 60.5263157895 %\n",
      "mv Accuracy: 28.0701754386 %\n",
      "ms Accuracy: 54.3859649123 %\n",
      "pm Accuracy: 44.7368421053 %\n",
      "pc Accuracy: 60.5263157895 %\n",
      "ph Accuracy: 60.5263157895 %\n",
      "pa Accuracy: 56.1403508772 %\n",
      "pv Accuracy: 43.8596491228 %\n",
      "pom Accuracy: 59.649122807 %\n",
      "rdc Accuracy: 36.8421052632 %\n",
      "ti Accuracy: 48.2456140351 %\n",
      "vs Accuracy: 45.6140350877 %\n",
      "0.535486443381\n"
     ]
    }
   ],
   "source": [
    "result_i=np.zeros(nb_s)\n",
    "pipeline = Pipeline([('scale', scaler),('classif_name', svm)])\n",
    "for ni,n in enumerate(names):\n",
    "    sim_filename=fold_g+'mni4060/asymroi_'+smt+'_'+n+'.npz'\n",
    "    roi_i=np.load(sim_filename)['roi']\n",
    "    roi_i=np.delete(roi_i,index_i,0)\n",
    "    roi_m=roi_i[:,motor_region_index]\n",
    "    cond_i=roi_m[condition_mask_i]\n",
    "    roi_test_i=cond_i[test_mask_i]\n",
    "    roi_train_i=cond_i[train_mask_i]# \n",
    "    pipeline.fit(roi_train_i, y_train_i)\n",
    "    prediction = pipeline.predict(roi_test_i) \n",
    "    result_i[ni]=accuracy_score(prediction,y_test_i)\n",
    "    print(n,'Accuracy:',result_i[ni]*100,'%')\n",
    "print(result_i.mean())"
   ]
  },
  {
   "cell_type": "code",
   "execution_count": 38,
   "metadata": {},
   "outputs": [
    {
     "name": "stdout",
     "output_type": "stream",
     "text": [
      "ap Accuracy: 51.7543859649 %\n",
      "as Accuracy: 53.5087719298 %\n",
      "bh Accuracy: 50.8771929825 %\n",
      "bi Accuracy: 50.0 %\n",
      "cmp Accuracy: 62.2807017544 %\n",
      "cas Accuracy: 50.8771929825 %\n",
      "cs Accuracy: 60.5263157895 %\n",
      "cb Accuracy: 58.7719298246 %\n",
      "gm Accuracy: 50.0 %\n",
      "gn Accuracy: 42.9824561404 %\n",
      "gbn Accuracy: 50.8771929825 %\n",
      "mv Accuracy: 65.7894736842 %\n",
      "ms Accuracy: 63.1578947368 %\n",
      "pm Accuracy: 48.2456140351 %\n",
      "pc Accuracy: 54.3859649123 %\n",
      "ph Accuracy: 66.6666666667 %\n",
      "pa Accuracy: 48.2456140351 %\n",
      "pv Accuracy: 37.7192982456 %\n",
      "pom Accuracy: 63.1578947368 %\n",
      "rdc Accuracy: 57.8947368421 %\n",
      "ti Accuracy: 51.7543859649 %\n",
      "vs Accuracy: 59.649122807 %\n",
      "0.545055821372\n"
     ]
    }
   ],
   "source": [
    "for ni,n in enumerate(names):\n",
    "    sim_filename=fold_g+'mni4060/asymroi_'+smt+'_'+n+'.npz'\n",
    "    roi_i=np.load(sim_filename)['roi']\n",
    "    roi_i=np.delete(roi_i,index_i,0)\n",
    "    roi_m=roi_i[:,motor_region_index]\n",
    "    cond_i=roi_m[condition_mask_i]\n",
    "    roi_test_i=cond_i[test_mask_i]\n",
    "    roi_train_i=cond_i[train_mask_i]# \n",
    "    pipeline.fit(roi_test_i, y_test_i)\n",
    "    prediction = pipeline.predict(roi_train_i) \n",
    "    result_i[ni]=accuracy_score(prediction,y_train_i)\n",
    "    print(n,'Accuracy:',result_i[ni]*100,'%')\n",
    "print(result_i.mean())"
   ]
  },
  {
   "cell_type": "code",
   "execution_count": 41,
   "metadata": {},
   "outputs": [
    {
     "name": "stdout",
     "output_type": "stream",
     "text": [
      "Accuracy Train:IMAG Test: STIM: 64.0749601276 %\n",
      "Accuracy Train:STIM Test:IMAG: 57.0972886762 %\n"
     ]
    }
   ],
   "source": [
    "roi_m_test=roi_test[:,motor_region_index]\n",
    "roi_m_train=roi_train[:,motor_region_index]\n",
    "pipeline.fit(roi_m_test, y_test)\n",
    "prediction = pipeline.predict(roi_m_train)  \n",
    "print('Accuracy Train:IMAG Test: STIM:',accuracy_score(prediction,y_train)*100,'%')\n",
    "\n",
    "pipeline.fit(roi_m_train, y_train)\n",
    "prediction = pipeline.predict(roi_m_test)  \n",
    "print('Accuracy Train:STIM Test:IMAG:',accuracy_score(prediction,y_test)*100,'%')"
   ]
  },
  {
   "cell_type": "code",
   "execution_count": 40,
   "metadata": {},
   "outputs": [
    {
     "name": "stdout",
     "output_type": "stream",
     "text": [
      "STIM only CV 0.794131794132\n",
      "IMAG only CV 0.665584415584\n"
     ]
    }
   ],
   "source": [
    "cv = LeaveOneLabelOut(block)\n",
    "score_cv = cross_val_score(pipeline, roi_m_train, y_train,cv=cv)\n",
    "print('STIM only CV',score_cv.mean())\n",
    "score_cv = cross_val_score(pipeline, roi_m_test, y_train,cv=cv)\n",
    "print('IMAG only CV',score_cv.mean())"
   ]
  },
  {
   "cell_type": "code",
   "execution_count": null,
   "metadata": {
    "collapsed": true
   },
   "outputs": [],
   "source": []
  }
 ],
 "metadata": {
  "kernelspec": {
   "display_name": "Python 3",
   "language": "python",
   "name": "python3"
  },
  "language_info": {
   "codemirror_mode": {
    "name": "ipython",
    "version": 3
   },
   "file_extension": ".py",
   "mimetype": "text/x-python",
   "name": "python",
   "nbconvert_exporter": "python",
   "pygments_lexer": "ipython3",
   "version": "3.5.3"
  }
 },
 "nbformat": 4,
 "nbformat_minor": 2
}

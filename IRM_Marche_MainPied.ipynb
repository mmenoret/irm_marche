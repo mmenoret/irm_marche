{
 "cells": [
  {
   "cell_type": "markdown",
   "metadata": {},
   "source": [
    "# Classification Main-Pied\n",
    "\n",
    "## Apprentissage sur stimulation; Test sur imagination\n",
    "\n",
    "Cerveau Entier - Parcellation BASC (444 régions)\n",
    "\n",
    "Tous les sujets - SVM Linéaire\n"
   ]
  },
  {
   "cell_type": "code",
   "execution_count": 7,
   "metadata": {
    "collapsed": true
   },
   "outputs": [],
   "source": [
    "import numpy as np\n",
    "\n",
    "from sklearn.pipeline import Pipeline   \n",
    "from sklearn.svm import SVC\n",
    "from sklearn import preprocessing \n",
    "from sklearn.feature_selection import SelectKBest, f_classif\n",
    "from sklearn.metrics import accuracy_score\n",
    "from nilearn.datasets import load_mni152_brain_mask\n",
    "from nilearn import datasets\n",
    "from nilearn.input_data import NiftiLabelsMasker\n",
    "from sklearn.cross_validation import LeaveOneLabelOut, cross_val_score, permutation_test_score\n",
    "\n",
    "%matplotlib inline\n",
    "import sys\n",
    "sys.path[0]='Z:/GitHub/gsp-learn/'\n",
    "from gsplearn.GSPPlot import plot_selectedregions"
   ]
  },
  {
   "cell_type": "code",
   "execution_count": 8,
   "metadata": {},
   "outputs": [],
   "source": [
    "# Import data\n",
    "names='ap','as','bh','bi','cmp','cas','cs','cb','gm','gn','gbn','mv','ms','pm','pc','ph','pa','pv','pom','rdc','ti','vs'\n",
    "smt='ss'\n",
    "fold_g = 'F:/IRM_Marche/'\n",
    "label_i=np.loadtxt(fold_g+'label_main.txt','S12')\n",
    "blocks_i=np.loadtxt(fold_g+'block_main.txt','int')\n",
    "\n",
    "roi=np.zeros([0,444])\n",
    "rest=np.zeros([0,444])\n",
    "label=np.zeros([0,3])\n",
    "blocks=np.array([])\n",
    "for n in names:\n",
    "    sim_filename=fold_g+'mni4060/roi_'+smt+'_'+n+'.npz'\n",
    "    rest_filename=  fold_g+'mni4060/roirest_'+smt+'_'+n+'.npz'  \n",
    "    tmproi=np.load(sim_filename)['roi']\n",
    "    tmprest=np.load(rest_filename)['roi']\n",
    "    roi=np.concatenate((roi,tmproi))\n",
    "    rest=np.concatenate((rest,tmprest))\n",
    "    label=np.append(label,label_i,axis=0)\n",
    "    blocks=np.append(blocks,blocks_i) \n",
    "    \n",
    "# Remove first volumes per block    \n",
    "index=[]\n",
    "for x in range(label.shape[0]):\n",
    "    if label[x,0]!=label[x-1,0]:\n",
    "        index.append(x)\n",
    "    elif label[x,0]!=label[x-2,0]:\n",
    "        index.append(x)\n",
    "        \n",
    "label=np.delete(label,index,0)\n",
    "blocks=np.delete(blocks,index,0)\n",
    "roi=np.delete(roi,index,0)\n",
    "\n",
    "condition_cat = np.logical_or(label[:,1] == b'foot', label[:,1] == b'hand')\n",
    "condition_out=np.logical_not(label[:,2]== b'des')\n",
    "condition_mask= condition_cat==condition_out\n",
    "block=blocks[condition_mask]\n",
    "y=label[condition_mask]\n",
    "cond=roi[condition_mask]\n",
    "   \n",
    "train_mask= y[:,0]==b'stim'\n",
    "test_mask= y[:,0]==b'imag'\n",
    "y_train=y[train_mask,1]\n",
    "y_test=y[test_mask,1]\n",
    "roi_train=cond[train_mask]#   \n",
    "roi_test=cond[test_mask]\n",
    "block=block[train_mask]"
   ]
  },
  {
   "cell_type": "code",
   "execution_count": 9,
   "metadata": {},
   "outputs": [
    {
     "name": "stdout",
     "output_type": "stream",
     "text": [
      "Accuracy: 59.9681020734 %\n"
     ]
    }
   ],
   "source": [
    "# Classification\n",
    "scaler = preprocessing.StandardScaler()\n",
    "svm= SVC(C=1., kernel=\"linear\")  \n",
    "k=60\n",
    "feature_selection = SelectKBest(f_classif, k=k)\n",
    "    \n",
    "pipeline_anova = Pipeline([('anova', feature_selection), ('scale', scaler),('classif_name', svm)])\n",
    "pipeline_anova.fit(roi_train, y_train)\n",
    "prediction = pipeline_anova.predict(roi_test)  \n",
    "result=accuracy_score(prediction,y_test)\n",
    "print('Accuracy:',result*100,'%')"
   ]
  },
  {
   "cell_type": "code",
   "execution_count": 10,
   "metadata": {},
   "outputs": [
    {
     "name": "stderr",
     "output_type": "stream",
     "text": [
      "C:\\Users\\mmenoret\\Miniconda2\\envs\\fmri_3\\lib\\site-packages\\scipy\\ndimage\\interpolation.py:462: UserWarning: The behaviour of affine_transform with a one-dimensional array supplied for the matrix parameter has changed in scipy 0.18.0.\n",
      "  \"The behaviour of affine_transform with a one-dimensional \"\n"
     ]
    },
    {
     "data": {
      "text/plain": [
       "NiftiLabelsMasker(background_label=0, detrend=True, high_pass=0.01,\n",
       "         labels_img='C:\\\\Users\\\\mmenoret/nilearn_data\\\\basc_multiscale_2015\\\\template_cambridge_basc_multiscale_nii_sym\\\\template_cambridge_basc_multiscale_sym_scale444.nii.gz',\n",
       "         low_pass=None,\n",
       "         mask_img=<nibabel.nifti1.Nifti1Image object at 0x0000000004E00978>,\n",
       "         memory=Memory(cachedir=None), memory_level=1,\n",
       "         resampling_target='labels', sessions=None, smoothing_fwhm=None,\n",
       "         standardize=False, t_r=2.28, verbose=0)"
      ]
     },
     "execution_count": 10,
     "metadata": {},
     "output_type": "execute_result"
    }
   ],
   "source": [
    "# Prepare ploting\n",
    "basc = datasets.fetch_atlas_basc_multiscale_2015(version='sym')['scale444']\n",
    "brainmask = load_mni152_brain_mask()\n",
    "masker = NiftiLabelsMasker(labels_img = basc, mask_img = brainmask, \n",
    "                           memory_level=1, verbose=0,\n",
    "                           detrend=True, standardize=False,  \n",
    "                           high_pass=0.01,t_r=2.28,\n",
    "                           resampling_target='labels'\n",
    "                           )\n",
    "masker.fit()"
   ]
  },
  {
   "cell_type": "code",
   "execution_count": 11,
   "metadata": {},
   "outputs": [
    {
     "data": {
      "image/png": "[encoded data removed]",
      "text/plain": [
       "<matplotlib.figure.Figure at 0x4d3aa20>"
      ]
     },
     "metadata": {},
     "output_type": "display_data"
    }
   ],
   "source": [
    "# Plot resulting weights of the SVM & selected regions\n",
    "weights=pipeline_anova.named_steps['classif_name'].coef_\n",
    "index=plot_selectedregions(pipeline_anova,masker,weights=weights,anova_name='anova')\n"
   ]
  },
  {
   "cell_type": "markdown",
   "metadata": {},
   "source": [
    "### Test du niveau de chance (en gardant la structure de bloc)"
   ]
  },
  {
   "cell_type": "code",
   "execution_count": 10,
   "metadata": {},
   "outputs": [
    {
     "name": "stdout",
     "output_type": "stream",
     "text": [
      "0.001\n"
     ]
    }
   ],
   "source": [
    "### Permutation block\n",
    "nb_p=1000\n",
    "null_result=np.zeros(nb_p)\n",
    "\n",
    "ncond=['hand','foot']\n",
    "for i in range(nb_p):\n",
    "    y_train_random=np.zeros((0,1),dtype='S12')\n",
    "    # shuffle block number\n",
    "    for suj in range(22):\n",
    "        xncond=np.random.permutation(ncond)\n",
    "        suj_train_random=np.append(np.full(57,xncond[0],dtype='S12'),np.full(57,xncond[1],dtype='S12'))\n",
    "        y_train_random=np.append(y_train_random,suj_train_random)\n",
    "\n",
    "        \n",
    "    pipeline_anova.fit(roi_train, y_train_random)\n",
    "    prediction = pipeline_anova.predict(roi_test) \n",
    "    null_result[i]=accuracy_score(prediction,y_test)\n",
    "\n",
    "sign=(null_result>=result).sum()/nb_p\n",
    "print(sign)"
   ]
  },
  {
   "cell_type": "markdown",
   "metadata": {},
   "source": [
    "Résultats: La classification imagination MAIN/PIED à partir de l'apprentissage de Stimulation MAIN/PIED donne des performances proches de 60 %, et vu le niveau de difficulté (cerveau entier, tache différente entre imagination et stimulation), c'est pas si mal (et largement significatif: p=0.001!)\n",
    "\n",
    "Concernant les coefficients du SVM obtenus (c'est à dire les régions qui permettent la classification), on retrouve parfaitement les régions motrices de la main et du pied)."
   ]
  },
  {
   "cell_type": "markdown",
   "metadata": {},
   "source": [
    "### Classification sur Stimulation seulement (de façon cross-validée)"
   ]
  },
  {
   "cell_type": "code",
   "execution_count": 15,
   "metadata": {},
   "outputs": [
    {
     "name": "stdout",
     "output_type": "stream",
     "text": [
      "STIM only CV 0.828403078403\n"
     ]
    }
   ],
   "source": [
    "cv = LeaveOneLabelOut(block)\n",
    "score_cv = cross_val_score(pipeline_anova, roi_train, y_train,cv=cv)\n",
    "print('STIM only CV',score_cv.mean())"
   ]
  },
  {
   "cell_type": "markdown",
   "metadata": {},
   "source": [
    "## Apprentissage sur imagination; Test sur stimulation\n",
    "\n",
    "Attention, vu que les taches diffèrent également au niveau visuel, la classification sur cerveau entier risque d'être faite sur le cortex visuel"
   ]
  },
  {
   "cell_type": "code",
   "execution_count": 12,
   "metadata": {},
   "outputs": [
    {
     "name": "stdout",
     "output_type": "stream",
     "text": [
      "Accuracy: 66.4673046252 %\n"
     ]
    }
   ],
   "source": [
    "pipeline_anova.fit(roi_test, y_test)\n",
    "prediction = pipeline_anova.predict(roi_train)  \n",
    "print('Accuracy:',accuracy_score(prediction,y_train)*100,'%')"
   ]
  },
  {
   "cell_type": "code",
   "execution_count": 13,
   "metadata": {},
   "outputs": [
    {
     "data": {
      "image/png": "[encoded data removed]",
      "text/plain": [
       "<matplotlib.figure.Figure at 0x4921da0>"
      ]
     },
     "metadata": {},
     "output_type": "display_data"
    }
   ],
   "source": [
    "# Plot resulting weights of the SVM & selected regions\n",
    "weights=pipeline_anova.named_steps['classif_name'].coef_\n",
    "index=plot_selectedregions(pipeline_anova,masker,weights=weights,anova_name='anova')"
   ]
  },
  {
   "cell_type": "markdown",
   "metadata": {},
   "source": [
    "Résultats: La classification des données Stimulation MAIN/PIED donne de meilleures performances: 66 %, \n",
    "mais quand on regarde les coefficients du SVM obtenus (c'est à dire les régions qui permettent la classification),\n",
    "on retrouve seulement les régions visuelles, donc probablement dues a des différences autres que motrices.\n",
    "Etant donné la différence dans le conditions de l'input visuel, il est impossible d'interpreter ces poids."
   ]
  },
  {
   "cell_type": "markdown",
   "metadata": {
    "collapsed": true
   },
   "source": [
    "## Analyse par sujets: \n",
    "Ne donne pas de bons résultats (classification significativement meilleure que la chance seulement chez 3 sujets."
   ]
  },
  {
   "cell_type": "markdown",
   "metadata": {},
   "source": [
    "## Apprentissage Stimulation sur tous les sujets - Test sur imagination par sujet"
   ]
  },
  {
   "cell_type": "code",
   "execution_count": 18,
   "metadata": {},
   "outputs": [
    {
     "name": "stderr",
     "output_type": "stream",
     "text": [
      "C:\\Users\\mmenoret\\Miniconda2\\envs\\fmri_3\\lib\\site-packages\\ipykernel_launcher.py:29: VisibleDeprecationWarning: boolean index did not match indexed array along dimension 0; dimension is 570 but corresponding boolean dimension is 210\n"
     ]
    },
    {
     "name": "stdout",
     "output_type": "stream",
     "text": [
      "ap Accuracy: 61.9047619048 %\n",
      "as Accuracy: 45.2380952381 %\n",
      "bh Accuracy: 59.5238095238 %\n",
      "bi Accuracy: 45.2380952381 %\n",
      "cmp Accuracy: 54.7619047619 %\n",
      "cas Accuracy: 52.380952381 %\n",
      "cs Accuracy: 40.4761904762 %\n",
      "cb Accuracy: 61.9047619048 %\n",
      "gm Accuracy: 30.9523809524 %\n",
      "gn Accuracy: 30.9523809524 %\n",
      "gbn Accuracy: 47.619047619 %\n",
      "mv Accuracy: 42.8571428571 %\n",
      "ms Accuracy: 66.6666666667 %\n",
      "pm Accuracy: 54.7619047619 %\n",
      "pc Accuracy: 50.0 %\n",
      "ph Accuracy: 50.0 %\n",
      "pa Accuracy: 57.1428571429 %\n",
      "pv Accuracy: 50.0 %\n",
      "pom Accuracy: 57.1428571429 %\n",
      "rdc Accuracy: 57.1428571429 %\n",
      "ti Accuracy: 50.0 %\n",
      "vs Accuracy: 52.380952381 %\n"
     ]
    }
   ],
   "source": [
    "pipeline_anova.fit(roi_train, y_train_random)\n",
    "index_i=[]\n",
    "for x in range(label_i.shape[0]):\n",
    "    if label_i[x,0]!=label_i[x-1,0]:\n",
    "        index_i.append(x)\n",
    "    elif label_i[x,0]!=label_i[x-2,0]:\n",
    "        index_i.append(x)\n",
    "        \n",
    "label_i=np.delete(label_i,index_i,0)\n",
    "blocks_i=np.delete(blocks_i,index_i,0)\n",
    "\n",
    "condition_cat_i = np.logical_or(label_i[:,1] == b'foot', label_i[:,1] == b'hand')\n",
    "condition_out_i=np.logical_not(label_i[:,2]== b'des')\n",
    "condition_mask_i= condition_cat_i==condition_out_i\n",
    "block_i=blocks_i[condition_mask_i]\n",
    "y_i=label_i[condition_mask_i]\n",
    "\n",
    "   \n",
    "#train_mask_i= y_i[:,0]==b'stim'\n",
    "test_mask_i= y_i[:,0]==b'imag'\n",
    "#y_train_i=y_i[train_mask_i,1]\n",
    "y_test_i=y_i[test_mask_i,1]\n",
    "  \n",
    "block_i=block_i[test_mask_i]\n",
    "for n in names:\n",
    "    sim_filename=fold_g+'mni4060/roi_'+smt+'_'+n+'.npz'\n",
    "    roi_i=np.load(sim_filename)['roi']\n",
    "    roi_i=np.delete(roi_i,index_i,0)\n",
    "    cond_i=roi_i[condition_mask_i]\n",
    "    roi_test_i=cond_i[test_mask_i]\n",
    "    #roi_train_i=cond_i[train_mask_i]# \n",
    "    prediction = pipeline_anova.predict(roi_test_i)  \n",
    "    print(n,'Accuracy:',accuracy_score(prediction,y_test_i)*100,'%')\n",
    "    "
   ]
  },
  {
   "cell_type": "markdown",
   "metadata": {},
   "source": [
    "Apprentissage Stim Hand/Foot sur tous les sujets, et test individuel Imag Hand/Foot ne marche pas non plus "
   ]
  },
  {
   "cell_type": "code",
   "execution_count": null,
   "metadata": {
    "collapsed": true
   },
   "outputs": [],
   "source": []
  }
 ],
 "metadata": {
  "kernelspec": {
   "display_name": "Python 3",
   "language": "python",
   "name": "python3"
  },
  "language_info": {
   "codemirror_mode": {
    "name": "ipython",
    "version": 3
   },
   "file_extension": ".py",
   "mimetype": "text/x-python",
   "name": "python",
   "nbconvert_exporter": "python",
   "pygments_lexer": "ipython3",
   "version": "3.5.3"
  }
 },
 "nbformat": 4,
 "nbformat_minor": 2
}
